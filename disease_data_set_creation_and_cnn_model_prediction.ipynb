{
  "nbformat": 4,
  "nbformat_minor": 0,
  "metadata": {
    "colab": {
      "name": "disease data set creation and cnn model prediction.ipynb",
      "provenance": [],
      "collapsed_sections": []
    },
    "kernelspec": {
      "name": "python3",
      "display_name": "Python 3"
    },
    "accelerator": "GPU"
  },
  "cells": [
    {
      "cell_type": "code",
      "metadata": {
        "id": "fTD3kRxUiqfK",
        "colab_type": "code",
        "colab": {}
      },
      "source": [
        ""
      ],
      "execution_count": 0,
      "outputs": []
    },
    {
      "cell_type": "code",
      "metadata": {
        "id": "CyzfNNAxiv5U",
        "colab_type": "code",
        "colab": {}
      },
      "source": [
        "from google.colab import drive\n",
        "drive.mount('/content/drive',force_remount=True)"
      ],
      "execution_count": 0,
      "outputs": []
    },
    {
      "cell_type": "code",
      "metadata": {
        "id": "uxFdU1knjJq-",
        "colab_type": "code",
        "outputId": "fe526fa0-e3ad-44a7-da93-c2d6a630f8e5",
        "colab": {
          "base_uri": "https://localhost:8080/",
          "height": 34
        }
      },
      "source": [
        "cd \"/content/drive/My Drive/\""
      ],
      "execution_count": 0,
      "outputs": [
        {
          "output_type": "stream",
          "text": [
            "/content/drive/My Drive\n"
          ],
          "name": "stdout"
        }
      ]
    },
    {
      "cell_type": "code",
      "metadata": {
        "id": "98ZUrP4088Z1",
        "colab_type": "code",
        "colab": {}
      },
      "source": [
        "from keras.preprocessing.image import ImageDataGenerator\n",
        "from numpy import expand_dims\n",
        "from scipy import ndimage\n",
        "from keras.preprocessing.image import load_img\n",
        "from keras.preprocessing.image import img_to_array\n",
        "import glob\n",
        "import matplotlib.pyplot as plt\n",
        "import matplotlib.image as mpimg\n",
        "import numpy as np\n",
        "\n",
        "datagen = ImageDataGenerator(\n",
        "    vertical_flip=True,\n",
        "    horizontal_flip=True)\n",
        "\n",
        "\n",
        "atypical=[]\n",
        "for filename in glob.glob('./data/atypical/*.jpg'): \n",
        "    image =load_img(filename)\n",
        "    image=img_to_array(image)\n",
        "    image= expand_dims(image, 0)\n",
        "    atypical.append(image)\n",
        "\n",
        "save_here = './data/atypical/'\n",
        "for new_image in atypical:\n",
        "  datagen.fit(new_image)\n",
        "  for x, val in zip(datagen.flow(new_image,                    \n",
        "          save_to_dir=save_here,     \n",
        "          save_prefix='aug',        \n",
        "          save_format='jpg'),range(10)) :     \n",
        "    pass\n",
        "\n"
      ],
      "execution_count": 0,
      "outputs": []
    },
    {
      "cell_type": "code",
      "metadata": {
        "id": "OvoFae8taSrJ",
        "colab_type": "code",
        "colab": {}
      },
      "source": [
        "corn=[]\n",
        "for filename in glob.glob('./data/corn/*.jpg'): \n",
        "    image =load_img(filename)\n",
        "    image=img_to_array(image)\n",
        "    image= expand_dims(image, 0)\n",
        "    corn.append(image)\n",
        "\n",
        "\n",
        "save_here = './data/corn/'\n",
        "for new_image in corn:\n",
        "  datagen.fit(new_image)\n",
        "  for x, val in zip(datagen.flow(new_image,                    \n",
        "          save_to_dir=save_here,     \n",
        "          save_prefix='aug',        \n",
        "          save_format='jpg'),range(10)) :  \n",
        "     \n",
        "    pass"
      ],
      "execution_count": 0,
      "outputs": []
    },
    {
      "cell_type": "code",
      "metadata": {
        "id": "7kQUQuITcwNZ",
        "colab_type": "code",
        "colab": {}
      },
      "source": [
        "eyelid=[]\n",
        "for filename in glob.glob('./data/eyelid/*.jpg'): \n",
        "    image =load_img(filename)\n",
        "    image=img_to_array(image)\n",
        "    image= expand_dims(image, 0)\n",
        "    eyelid.append(image)\n",
        "\n",
        "\n",
        "save_here = './data/eyelid/'\n",
        "for new_image in eyelid:\n",
        "  datagen.fit(new_image)\n",
        "  for x, val in zip(datagen.flow(new_image,                    \n",
        "          save_to_dir=save_here,     \n",
        "          save_prefix='aug',        \n",
        "          save_format='jpg'),range(10)) :  \n",
        "     \n",
        "    pass"
      ],
      "execution_count": 0,
      "outputs": []
    },
    {
      "cell_type": "markdown",
      "metadata": {
        "id": "6ry53i71C1Sy",
        "colab_type": "text"
      },
      "source": [
        "#datagen\n",
        "\n",
        "\n",
        "---\n",
        "\n"
      ]
    },
    {
      "cell_type": "code",
      "metadata": {
        "id": "a5jOJPSa9Bwc",
        "colab_type": "code",
        "colab": {}
      },
      "source": [
        ""
      ],
      "execution_count": 0,
      "outputs": []
    },
    {
      "cell_type": "code",
      "metadata": {
        "id": "VkocdxraxnwF",
        "colab_type": "code",
        "colab": {}
      },
      "source": [
        ""
      ],
      "execution_count": 0,
      "outputs": []
    },
    {
      "cell_type": "code",
      "metadata": {
        "id": "Ho4XiN2ajaKZ",
        "colab_type": "code",
        "colab": {}
      },
      "source": [
        ""
      ],
      "execution_count": 0,
      "outputs": []
    },
    {
      "cell_type": "markdown",
      "metadata": {
        "id": "en9u7Pi60yBR",
        "colab_type": "text"
      },
      "source": [
        "#**new**\n",
        "\n",
        "\n",
        "---\n",
        "\n",
        "\n",
        "\n",
        "---\n",
        "\n",
        "\n",
        "\n",
        "---\n",
        "\n"
      ]
    },
    {
      "cell_type": "code",
      "metadata": {
        "id": "Frt3B_WN0ztG",
        "colab_type": "code",
        "colab": {}
      },
      "source": [
        ""
      ],
      "execution_count": 0,
      "outputs": []
    },
    {
      "cell_type": "markdown",
      "metadata": {
        "id": "2ZHAv2LgglIS",
        "colab_type": "text"
      },
      "source": [
        "#Dataset loading"
      ]
    },
    {
      "cell_type": "code",
      "metadata": {
        "id": "krY_JjzG00WJ",
        "colab_type": "code",
        "outputId": "b126176f-c065-4c8c-8e4b-193b4f3ffb9c",
        "colab": {
          "base_uri": "https://localhost:8080/",
          "height": 235
        }
      },
      "source": [
        "import numpy as np\n",
        "import os\n",
        "from matplotlib import pyplot as plt\n",
        "import cv2\n",
        "import random\n",
        "import pickle\n",
        "\n",
        "\n",
        "file_list = []\n",
        "class_list = []\n",
        "\n",
        "DATADIR = \"data\"\n",
        "\n",
        "# All the categories you want your neural network to detect\n",
        "CATEGORIES = [\"acne\",\"atypical\",\"corn\",\"eyelid\"]\n",
        "\n",
        "# The size of the images that your neural network will use\n",
        "IMG_SIZE = 50\n",
        "\n",
        "# Checking or all images in the data folder\n",
        "for category in CATEGORIES :\n",
        "\tpath = os.path.join(DATADIR, category)\n",
        "\tfor img in os.listdir(path):\n",
        "\t\timg_array = cv2.imread(os.path.join(path, img))\n",
        "\n",
        "training_data = []\n",
        "\n",
        "def create_training_data():\n",
        "\tfor category in CATEGORIES :\n",
        "\t\tpath = os.path.join(DATADIR, category)\n",
        "\t\tclass_num = CATEGORIES.index(category)\n",
        "\t\tfor img in os.listdir(path):\n",
        "\t\t\ttry :\n",
        "\t\t\t\timg_array = cv2.imread(os.path.join(path, img))\n",
        "\t\t\t\tnew_array = cv2.resize(img_array, (IMG_SIZE, IMG_SIZE))\n",
        "\t\t\t\ttraining_data.append([new_array, class_num])\n",
        "\t\t\texcept Exception as e:\n",
        "\t\t\t\tprint(e)\n",
        "\t\t\t\tpass\n",
        "\n",
        "create_training_data()\n",
        "\n",
        "random.shuffle(training_data)\n",
        "\n",
        "X = [] #features\n",
        "y = [] #labels\n",
        "\n",
        "for features, label in training_data:\n",
        "\tX.append(features)\n",
        "\ty.append(label)\n",
        "\n",
        "X = np.array(X).reshape(-1, IMG_SIZE, IMG_SIZE, 3)\n",
        "\n",
        "# Creating the files containing all the information about your model\n",
        "pickle_out = open(\"X.pickle\", \"wb\")\n",
        "pickle.dump(X, pickle_out)\n",
        "pickle_out.close()\n",
        "\n",
        "pickle_out = open(\"y.pickle\", \"wb\")\n",
        "pickle.dump(y, pickle_out)\n",
        "pickle_out.close()\n",
        "\n",
        "pickle_in = open(\"X.pickle\", \"rb\")\n",
        "X = pickle.load(pickle_in)"
      ],
      "execution_count": 0,
      "outputs": [
        {
          "output_type": "error",
          "ename": "KeyboardInterrupt",
          "evalue": "ignored",
          "traceback": [
            "\u001b[0;31m---------------------------------------------------------------------------\u001b[0m",
            "\u001b[0;31mKeyboardInterrupt\u001b[0m                         Traceback (most recent call last)",
            "\u001b[0;32m<ipython-input-8-a297f2f4c073>\u001b[0m in \u001b[0;36m<module>\u001b[0;34m()\u001b[0m\n\u001b[1;32m     22\u001b[0m         \u001b[0mpath\u001b[0m \u001b[0;34m=\u001b[0m \u001b[0mos\u001b[0m\u001b[0;34m.\u001b[0m\u001b[0mpath\u001b[0m\u001b[0;34m.\u001b[0m\u001b[0mjoin\u001b[0m\u001b[0;34m(\u001b[0m\u001b[0mDATADIR\u001b[0m\u001b[0;34m,\u001b[0m \u001b[0mcategory\u001b[0m\u001b[0;34m)\u001b[0m\u001b[0;34m\u001b[0m\u001b[0;34m\u001b[0m\u001b[0m\n\u001b[1;32m     23\u001b[0m         \u001b[0;32mfor\u001b[0m \u001b[0mimg\u001b[0m \u001b[0;32min\u001b[0m \u001b[0mos\u001b[0m\u001b[0;34m.\u001b[0m\u001b[0mlistdir\u001b[0m\u001b[0;34m(\u001b[0m\u001b[0mpath\u001b[0m\u001b[0;34m)\u001b[0m\u001b[0;34m:\u001b[0m\u001b[0;34m\u001b[0m\u001b[0;34m\u001b[0m\u001b[0m\n\u001b[0;32m---> 24\u001b[0;31m                 \u001b[0mimg_array\u001b[0m \u001b[0;34m=\u001b[0m \u001b[0mcv2\u001b[0m\u001b[0;34m.\u001b[0m\u001b[0mimread\u001b[0m\u001b[0;34m(\u001b[0m\u001b[0mos\u001b[0m\u001b[0;34m.\u001b[0m\u001b[0mpath\u001b[0m\u001b[0;34m.\u001b[0m\u001b[0mjoin\u001b[0m\u001b[0;34m(\u001b[0m\u001b[0mpath\u001b[0m\u001b[0;34m,\u001b[0m \u001b[0mimg\u001b[0m\u001b[0;34m)\u001b[0m\u001b[0;34m)\u001b[0m\u001b[0;34m\u001b[0m\u001b[0;34m\u001b[0m\u001b[0m\n\u001b[0m\u001b[1;32m     25\u001b[0m \u001b[0;34m\u001b[0m\u001b[0m\n\u001b[1;32m     26\u001b[0m \u001b[0mtraining_data\u001b[0m \u001b[0;34m=\u001b[0m \u001b[0;34m[\u001b[0m\u001b[0;34m]\u001b[0m\u001b[0;34m\u001b[0m\u001b[0;34m\u001b[0m\u001b[0m\n",
            "\u001b[0;31mKeyboardInterrupt\u001b[0m: "
          ]
        }
      ]
    },
    {
      "cell_type": "markdown",
      "metadata": {
        "id": "Z-aJjotEgw4k",
        "colab_type": "text"
      },
      "source": [
        "#Machine Modelling"
      ]
    },
    {
      "cell_type": "code",
      "metadata": {
        "id": "WmnuOv401yLg",
        "colab_type": "code",
        "outputId": "0942cfce-407a-475c-aa65-550f9287d033",
        "colab": {
          "base_uri": "https://localhost:8080/",
          "height": 1000
        }
      },
      "source": [
        "\n",
        "import tensorflow as tf \n",
        "from tensorflow.keras.models import Sequential\n",
        "from tensorflow.keras.layers import Dense, Dropout, Activation, Flatten, Conv2D, MaxPooling2D,BatchNormalization\n",
        "import pickle\n",
        "from keras.models import model_from_json\n",
        "from keras.models import load_model\n",
        "import matplotlib.pyplot as plt\n",
        "\n",
        "# Opening the files about data\n",
        "X = pickle.load(open(\"X.pickle\", \"rb\"))\n",
        "y = pickle.load(open(\"y.pickle\", \"rb\"))\n",
        "\n",
        "# normalizing data (a pixel goes from 0 to 255)\n",
        "X = X/255.0\n",
        "\n",
        "''''''\n",
        "#conv\n",
        "input_shape = X.shape[1:]\n",
        "model = Sequential()\n",
        "model.add(Conv2D(32, kernel_size=(3, 3), activation='relu', input_shape=input_shape))\n",
        "model.add(BatchNormalization())\n",
        "\n",
        "model.add(Conv2D(32, kernel_size=(3, 3), activation='relu'))\n",
        "model.add(BatchNormalization())\n",
        "model.add(MaxPooling2D(pool_size=(2, 2)))\n",
        "model.add(Dropout(0.25))\n",
        "\n",
        "model.add(Conv2D(64, kernel_size=(3, 3), activation='relu'))\n",
        "model.add(BatchNormalization())\n",
        "model.add(Dropout(0.25))\n",
        "\n",
        "model.add(Conv2D(64, kernel_size=(3, 3), activation='relu'))\n",
        "model.add(BatchNormalization())\n",
        "model.add(Dropout(0.25))\n",
        "\n",
        "model.add(Conv2D(128, kernel_size=(3, 3), activation='relu'))\n",
        "model.add(BatchNormalization())\n",
        "model.add(MaxPooling2D(pool_size=(2, 2)))\n",
        "model.add(Dropout(0.25))\n",
        "\n",
        "model.add(Flatten())\n",
        "\n",
        "model.add(Dense(512, activation='relu'))\n",
        "model.add(BatchNormalization())\n",
        "model.add(Dropout(0.5))\n",
        "\n",
        "model.add(Dense(128, activation='relu'))\n",
        "model.add(BatchNormalization())\n",
        "model.add(Dropout(0.5))\n",
        "\n",
        "model.add(Dense(4, activation='softmax'))\n",
        "\n",
        "model.compile(loss=\"sparse_categorical_crossentropy\",\n",
        "              optimizer=\"adam\",\n",
        "              metrics=['accuracy'])\n",
        "''''''\n",
        "'''# Building the model\n",
        "model = Sequential()\n",
        "\n",
        "# 3 convolutional layers\n",
        "model.add(Conv2D(32, (3, 3), input_shape = X.shape[1:]))\n",
        "model.add(Activation(\"relu\"))\n",
        "model.add(MaxPooling2D(pool_size=(2,2)))\n",
        "\n",
        "model.add(Conv2D(64, (3, 3)))\n",
        "model.add(Activation(\"relu\"))\n",
        "model.add(MaxPooling2D(pool_size=(2,2)))\n",
        "\n",
        "model.add(Conv2D(64, (3, 3)))\n",
        "model.add(Activation(\"relu\"))\n",
        "model.add(MaxPooling2D(pool_size=(2,2)))\n",
        "\n",
        "model.add(Conv2D(64, (3, 3)))\n",
        "model.add(Activation(\"relu\"))\n",
        "model.add(MaxPooling2D(pool_size=(2,2)))\n",
        "model.add(Dropout(0.25))\n",
        "\n",
        "# 2 hidden layers\n",
        "model.add(Flatten())\n",
        "model.add(Dense(128))\n",
        "model.add(Activation(\"relu\"))\n",
        "\n",
        "model.add(Dense(128))\n",
        "model.add(Activation(\"relu\"))\n",
        "\n",
        "# The output layer with 4 neurons, for 4 classes\n",
        "model.add(Dense(4))\n",
        "model.add(Activation(\"softmax\"))\n",
        "\n",
        "# Compiling the model using some basic parameters\n",
        "model.compile(loss=\"sparse_categorical_crossentropy\",\n",
        "\t\t\t\toptimizer=\"adam\",\n",
        "\t\t\t\tmetrics=[\"accuracy\"])'''\n",
        "\n",
        "# Training the model, with 40 iterations\n",
        "# validation_split corresponds to the percentage of images used for the validation phase compared to all the images\n",
        "history = model.fit(X, y, batch_size=20, epochs=100, validation_split=0.1)\n",
        "\n",
        "# Saving the model\n",
        "model_json = model.to_json()\n",
        "with open(\"model.json\", \"w\") as json_file :\n",
        "\tjson_file.write(model_json)\n",
        "\n",
        "model.save_weights(\"model.h5\")\n",
        "print(\"Saved model to disk\")\n",
        "\n",
        "model.save('CNN.model')\n",
        "\n",
        "# Printing a graph showing the accuracy changes during the training phase\n",
        "print(history.history.keys())\n",
        "plt.figure(1)\n",
        "plt.plot(history.history['acc'])\n",
        "plt.plot(history.history['val_acc'])\n",
        "plt.title('model accuracy')\n",
        "plt.ylabel('accuracy')\n",
        "plt.xlabel('epoch')\n",
        "plt.legend(['train', 'validation'], loc='upper left')"
      ],
      "execution_count": 0,
      "outputs": [
        {
          "output_type": "stream",
          "text": [
            "Train on 774 samples, validate on 87 samples\n",
            "Epoch 1/100\n",
            "774/774 [==============================] - 4s 5ms/sample - loss: 1.6866 - acc: 0.4690 - val_loss: 3.0670 - val_acc: 0.3333\n",
            "Epoch 2/100\n",
            "774/774 [==============================] - 1s 729us/sample - loss: 0.9060 - acc: 0.6770 - val_loss: 4.3748 - val_acc: 0.3333\n",
            "Epoch 3/100\n",
            "774/774 [==============================] - 1s 695us/sample - loss: 0.7020 - acc: 0.7455 - val_loss: 5.7921 - val_acc: 0.3333\n",
            "Epoch 4/100\n",
            "774/774 [==============================] - 0s 631us/sample - loss: 0.5739 - acc: 0.7894 - val_loss: 5.7960 - val_acc: 0.3333\n",
            "Epoch 5/100\n",
            "774/774 [==============================] - 0s 639us/sample - loss: 0.4100 - acc: 0.8682 - val_loss: 6.2438 - val_acc: 0.3333\n",
            "Epoch 6/100\n",
            "774/774 [==============================] - 1s 700us/sample - loss: 0.3202 - acc: 0.8889 - val_loss: 6.0527 - val_acc: 0.3333\n",
            "Epoch 7/100\n",
            "774/774 [==============================] - 1s 677us/sample - loss: 0.2800 - acc: 0.9096 - val_loss: 7.5053 - val_acc: 0.3333\n",
            "Epoch 8/100\n",
            "774/774 [==============================] - 1s 713us/sample - loss: 0.3153 - acc: 0.8915 - val_loss: 7.5982 - val_acc: 0.3333\n",
            "Epoch 9/100\n",
            "774/774 [==============================] - 1s 719us/sample - loss: 0.2063 - acc: 0.9315 - val_loss: 7.4431 - val_acc: 0.3333\n",
            "Epoch 10/100\n",
            "774/774 [==============================] - 1s 698us/sample - loss: 0.2261 - acc: 0.9225 - val_loss: 3.9753 - val_acc: 0.3563\n",
            "Epoch 11/100\n",
            "774/774 [==============================] - 1s 686us/sample - loss: 0.2196 - acc: 0.9173 - val_loss: 4.2578 - val_acc: 0.3563\n",
            "Epoch 12/100\n",
            "774/774 [==============================] - 1s 670us/sample - loss: 0.1762 - acc: 0.9432 - val_loss: 2.5547 - val_acc: 0.4713\n",
            "Epoch 13/100\n",
            "774/774 [==============================] - 0s 634us/sample - loss: 0.1475 - acc: 0.9444 - val_loss: 1.7524 - val_acc: 0.5172\n",
            "Epoch 14/100\n",
            "774/774 [==============================] - 1s 655us/sample - loss: 0.1391 - acc: 0.9548 - val_loss: 1.8483 - val_acc: 0.5287\n",
            "Epoch 15/100\n",
            "774/774 [==============================] - 1s 678us/sample - loss: 0.1387 - acc: 0.9444 - val_loss: 1.5239 - val_acc: 0.6322\n",
            "Epoch 16/100\n",
            "774/774 [==============================] - 1s 688us/sample - loss: 0.1774 - acc: 0.9393 - val_loss: 1.7968 - val_acc: 0.6207\n",
            "Epoch 17/100\n",
            "774/774 [==============================] - 0s 626us/sample - loss: 0.1140 - acc: 0.9638 - val_loss: 0.6159 - val_acc: 0.7471\n",
            "Epoch 18/100\n",
            "774/774 [==============================] - 1s 661us/sample - loss: 0.2040 - acc: 0.9354 - val_loss: 3.2065 - val_acc: 0.8276\n",
            "Epoch 19/100\n",
            "774/774 [==============================] - 0s 628us/sample - loss: 0.1704 - acc: 0.9393 - val_loss: 0.3079 - val_acc: 0.8851\n",
            "Epoch 20/100\n",
            "774/774 [==============================] - 1s 694us/sample - loss: 0.1655 - acc: 0.9457 - val_loss: 0.3276 - val_acc: 0.8851\n",
            "Epoch 21/100\n",
            "774/774 [==============================] - 1s 669us/sample - loss: 0.0929 - acc: 0.9677 - val_loss: 0.1851 - val_acc: 0.9195\n",
            "Epoch 22/100\n",
            "774/774 [==============================] - 1s 714us/sample - loss: 0.0611 - acc: 0.9819 - val_loss: 0.2821 - val_acc: 0.9195\n",
            "Epoch 23/100\n",
            "774/774 [==============================] - 1s 652us/sample - loss: 0.0742 - acc: 0.9716 - val_loss: 0.1149 - val_acc: 0.9655\n",
            "Epoch 24/100\n",
            "774/774 [==============================] - 1s 693us/sample - loss: 0.0797 - acc: 0.9703 - val_loss: 0.4364 - val_acc: 0.9310\n",
            "Epoch 25/100\n",
            "774/774 [==============================] - 1s 648us/sample - loss: 0.0807 - acc: 0.9767 - val_loss: 1.4268 - val_acc: 0.8046\n",
            "Epoch 26/100\n",
            "774/774 [==============================] - 1s 696us/sample - loss: 0.0721 - acc: 0.9793 - val_loss: 1.0344 - val_acc: 0.8621\n",
            "Epoch 27/100\n",
            "774/774 [==============================] - 1s 670us/sample - loss: 0.0635 - acc: 0.9780 - val_loss: 0.3925 - val_acc: 0.8851\n",
            "Epoch 28/100\n",
            "774/774 [==============================] - 1s 660us/sample - loss: 0.0527 - acc: 0.9871 - val_loss: 1.0201 - val_acc: 0.8736\n",
            "Epoch 29/100\n",
            "774/774 [==============================] - 1s 687us/sample - loss: 0.0504 - acc: 0.9845 - val_loss: 0.7165 - val_acc: 0.8506\n",
            "Epoch 30/100\n",
            "774/774 [==============================] - 1s 748us/sample - loss: 0.0829 - acc: 0.9742 - val_loss: 0.1242 - val_acc: 0.9080\n",
            "Epoch 31/100\n",
            "774/774 [==============================] - 1s 716us/sample - loss: 0.0601 - acc: 0.9793 - val_loss: 0.4819 - val_acc: 0.9080\n",
            "Epoch 32/100\n",
            "774/774 [==============================] - 1s 680us/sample - loss: 0.0552 - acc: 0.9845 - val_loss: 0.3657 - val_acc: 0.8966\n",
            "Epoch 33/100\n",
            "774/774 [==============================] - 0s 638us/sample - loss: 0.0535 - acc: 0.9832 - val_loss: 0.4526 - val_acc: 0.9195\n",
            "Epoch 34/100\n",
            "774/774 [==============================] - 0s 633us/sample - loss: 0.0817 - acc: 0.9703 - val_loss: 0.8283 - val_acc: 0.8851\n",
            "Epoch 35/100\n",
            "774/774 [==============================] - 1s 665us/sample - loss: 0.0819 - acc: 0.9729 - val_loss: 1.1172 - val_acc: 0.7701\n",
            "Epoch 36/100\n",
            "774/774 [==============================] - 1s 652us/sample - loss: 0.0932 - acc: 0.9677 - val_loss: 2.1877 - val_acc: 0.6667\n",
            "Epoch 37/100\n",
            "774/774 [==============================] - 1s 696us/sample - loss: 0.0947 - acc: 0.9716 - val_loss: 0.2117 - val_acc: 0.9425\n",
            "Epoch 38/100\n",
            "774/774 [==============================] - 1s 668us/sample - loss: 0.0943 - acc: 0.9651 - val_loss: 0.6073 - val_acc: 0.9195\n",
            "Epoch 39/100\n",
            "774/774 [==============================] - 0s 643us/sample - loss: 0.0752 - acc: 0.9716 - val_loss: 0.6164 - val_acc: 0.8621\n",
            "Epoch 40/100\n",
            "774/774 [==============================] - 1s 666us/sample - loss: 0.0582 - acc: 0.9767 - val_loss: 0.5259 - val_acc: 0.8966\n",
            "Epoch 41/100\n",
            "774/774 [==============================] - 1s 699us/sample - loss: 0.0378 - acc: 0.9910 - val_loss: 1.4536 - val_acc: 0.8391\n",
            "Epoch 42/100\n",
            "774/774 [==============================] - 1s 673us/sample - loss: 0.0462 - acc: 0.9858 - val_loss: 0.0625 - val_acc: 0.9655\n",
            "Epoch 43/100\n",
            "774/774 [==============================] - 1s 658us/sample - loss: 0.0253 - acc: 0.9948 - val_loss: 0.1371 - val_acc: 0.9540\n",
            "Epoch 44/100\n",
            "774/774 [==============================] - 1s 723us/sample - loss: 0.0406 - acc: 0.9897 - val_loss: 0.1064 - val_acc: 0.9655\n",
            "Epoch 45/100\n",
            "774/774 [==============================] - 1s 756us/sample - loss: 0.0331 - acc: 0.9897 - val_loss: 0.2040 - val_acc: 0.9540\n",
            "Epoch 46/100\n",
            "774/774 [==============================] - 1s 673us/sample - loss: 0.0321 - acc: 0.9871 - val_loss: 0.3185 - val_acc: 0.9080\n",
            "Epoch 47/100\n",
            "774/774 [==============================] - 1s 666us/sample - loss: 0.0352 - acc: 0.9858 - val_loss: 0.5297 - val_acc: 0.9080\n",
            "Epoch 48/100\n",
            "774/774 [==============================] - 1s 662us/sample - loss: 0.0455 - acc: 0.9819 - val_loss: 0.8938 - val_acc: 0.8046\n",
            "Epoch 49/100\n",
            "774/774 [==============================] - 0s 643us/sample - loss: 0.0449 - acc: 0.9858 - val_loss: 0.2084 - val_acc: 0.9310\n",
            "Epoch 50/100\n",
            "774/774 [==============================] - 0s 632us/sample - loss: 0.0237 - acc: 0.9922 - val_loss: 0.0732 - val_acc: 0.9425\n",
            "Epoch 51/100\n",
            "774/774 [==============================] - 1s 655us/sample - loss: 0.0318 - acc: 0.9871 - val_loss: 0.8809 - val_acc: 0.8736\n",
            "Epoch 52/100\n",
            "774/774 [==============================] - 1s 659us/sample - loss: 0.0263 - acc: 0.9884 - val_loss: 0.2245 - val_acc: 0.9425\n",
            "Epoch 53/100\n",
            "774/774 [==============================] - 1s 680us/sample - loss: 0.0221 - acc: 0.9935 - val_loss: 0.1643 - val_acc: 0.9425\n",
            "Epoch 54/100\n",
            "774/774 [==============================] - 0s 646us/sample - loss: 0.0403 - acc: 0.9897 - val_loss: 0.1153 - val_acc: 0.9655\n",
            "Epoch 55/100\n",
            "774/774 [==============================] - 1s 695us/sample - loss: 0.0401 - acc: 0.9884 - val_loss: 0.3481 - val_acc: 0.9195\n",
            "Epoch 56/100\n",
            "774/774 [==============================] - 1s 690us/sample - loss: 0.0237 - acc: 0.9897 - val_loss: 0.4299 - val_acc: 0.9425\n",
            "Epoch 57/100\n",
            "774/774 [==============================] - 1s 675us/sample - loss: 0.0504 - acc: 0.9819 - val_loss: 0.5639 - val_acc: 0.8736\n",
            "Epoch 58/100\n",
            "774/774 [==============================] - 0s 633us/sample - loss: 0.0449 - acc: 0.9819 - val_loss: 0.2524 - val_acc: 0.9425\n",
            "Epoch 59/100\n",
            "774/774 [==============================] - 1s 646us/sample - loss: 0.0397 - acc: 0.9884 - val_loss: 0.2563 - val_acc: 0.9425\n",
            "Epoch 60/100\n",
            "774/774 [==============================] - 0s 628us/sample - loss: 0.0156 - acc: 0.9922 - val_loss: 0.1324 - val_acc: 0.9540\n",
            "Epoch 61/100\n",
            "774/774 [==============================] - 1s 658us/sample - loss: 0.0196 - acc: 0.9935 - val_loss: 0.3024 - val_acc: 0.9310\n",
            "Epoch 62/100\n",
            "774/774 [==============================] - 1s 745us/sample - loss: 0.0287 - acc: 0.9884 - val_loss: 0.2179 - val_acc: 0.9425\n",
            "Epoch 63/100\n",
            "774/774 [==============================] - 0s 631us/sample - loss: 0.0224 - acc: 0.9948 - val_loss: 0.2244 - val_acc: 0.9080\n",
            "Epoch 64/100\n",
            "774/774 [==============================] - 1s 696us/sample - loss: 0.0220 - acc: 0.9922 - val_loss: 0.2459 - val_acc: 0.8966\n",
            "Epoch 65/100\n",
            "774/774 [==============================] - 1s 664us/sample - loss: 0.0414 - acc: 0.9845 - val_loss: 0.3713 - val_acc: 0.8966\n",
            "Epoch 66/100\n",
            "774/774 [==============================] - 1s 678us/sample - loss: 0.1066 - acc: 0.9599 - val_loss: 1.2411 - val_acc: 0.7356\n",
            "Epoch 67/100\n",
            "774/774 [==============================] - 1s 657us/sample - loss: 0.0780 - acc: 0.9677 - val_loss: 0.3773 - val_acc: 0.8851\n",
            "Epoch 68/100\n",
            "774/774 [==============================] - 1s 716us/sample - loss: 0.0746 - acc: 0.9703 - val_loss: 0.7101 - val_acc: 0.8506\n",
            "Epoch 69/100\n",
            "774/774 [==============================] - 1s 680us/sample - loss: 0.0541 - acc: 0.9832 - val_loss: 0.1818 - val_acc: 0.9310\n",
            "Epoch 70/100\n",
            "774/774 [==============================] - 1s 713us/sample - loss: 0.0492 - acc: 0.9858 - val_loss: 0.3411 - val_acc: 0.9080\n",
            "Epoch 71/100\n",
            "774/774 [==============================] - 0s 634us/sample - loss: 0.0779 - acc: 0.9755 - val_loss: 0.2722 - val_acc: 0.9310\n",
            "Epoch 72/100\n",
            "774/774 [==============================] - 1s 699us/sample - loss: 0.0820 - acc: 0.9780 - val_loss: 0.2526 - val_acc: 0.9310\n",
            "Epoch 73/100\n",
            "774/774 [==============================] - 1s 647us/sample - loss: 0.0428 - acc: 0.9871 - val_loss: 0.2876 - val_acc: 0.9195\n",
            "Epoch 74/100\n",
            "774/774 [==============================] - 1s 663us/sample - loss: 0.0482 - acc: 0.9780 - val_loss: 0.3403 - val_acc: 0.8966\n",
            "Epoch 75/100\n",
            "774/774 [==============================] - 1s 667us/sample - loss: 0.0366 - acc: 0.9871 - val_loss: 0.2841 - val_acc: 0.9195\n",
            "Epoch 76/100\n",
            "774/774 [==============================] - 1s 664us/sample - loss: 0.0564 - acc: 0.9780 - val_loss: 0.1566 - val_acc: 0.9425\n",
            "Epoch 77/100\n",
            "774/774 [==============================] - 1s 689us/sample - loss: 0.0642 - acc: 0.9780 - val_loss: 0.3714 - val_acc: 0.9080\n",
            "Epoch 78/100\n",
            "774/774 [==============================] - 0s 637us/sample - loss: 0.0304 - acc: 0.9871 - val_loss: 0.3580 - val_acc: 0.8851\n",
            "Epoch 79/100\n",
            "774/774 [==============================] - 0s 645us/sample - loss: 0.0264 - acc: 0.9935 - val_loss: 0.5966 - val_acc: 0.9080\n",
            "Epoch 80/100\n",
            "774/774 [==============================] - 0s 641us/sample - loss: 0.0398 - acc: 0.9858 - val_loss: 0.6297 - val_acc: 0.8621\n",
            "Epoch 81/100\n",
            "774/774 [==============================] - 0s 638us/sample - loss: 0.0223 - acc: 0.9948 - val_loss: 0.2998 - val_acc: 0.9195\n",
            "Epoch 82/100\n",
            "774/774 [==============================] - 1s 703us/sample - loss: 0.0207 - acc: 0.9922 - val_loss: 0.1401 - val_acc: 0.9540\n",
            "Epoch 83/100\n",
            "774/774 [==============================] - 1s 702us/sample - loss: 0.0339 - acc: 0.9897 - val_loss: 0.1548 - val_acc: 0.9310\n",
            "Epoch 84/100\n",
            "774/774 [==============================] - 1s 667us/sample - loss: 0.0394 - acc: 0.9845 - val_loss: 0.2056 - val_acc: 0.9310\n",
            "Epoch 85/100\n",
            "774/774 [==============================] - 0s 627us/sample - loss: 0.0176 - acc: 0.9961 - val_loss: 0.1867 - val_acc: 0.9540\n",
            "Epoch 86/100\n",
            "774/774 [==============================] - 1s 656us/sample - loss: 0.0255 - acc: 0.9897 - val_loss: 0.2813 - val_acc: 0.9310\n",
            "Epoch 87/100\n",
            "774/774 [==============================] - 1s 648us/sample - loss: 0.0215 - acc: 0.9922 - val_loss: 0.2373 - val_acc: 0.9195\n",
            "Epoch 88/100\n",
            "774/774 [==============================] - 1s 663us/sample - loss: 0.0169 - acc: 0.9961 - val_loss: 0.1772 - val_acc: 0.9655\n",
            "Epoch 89/100\n",
            "774/774 [==============================] - 1s 695us/sample - loss: 0.0135 - acc: 0.9974 - val_loss: 0.2615 - val_acc: 0.9310\n",
            "Epoch 90/100\n",
            "774/774 [==============================] - 1s 686us/sample - loss: 0.0192 - acc: 0.9910 - val_loss: 0.2909 - val_acc: 0.9195\n",
            "Epoch 91/100\n",
            "774/774 [==============================] - 1s 668us/sample - loss: 0.0221 - acc: 0.9910 - val_loss: 0.4153 - val_acc: 0.9080\n",
            "Epoch 92/100\n",
            "774/774 [==============================] - 1s 700us/sample - loss: 0.0130 - acc: 0.9935 - val_loss: 0.5405 - val_acc: 0.9195\n",
            "Epoch 93/100\n",
            "774/774 [==============================] - 1s 743us/sample - loss: 0.0180 - acc: 0.9948 - val_loss: 0.1786 - val_acc: 0.9425\n",
            "Epoch 94/100\n",
            "774/774 [==============================] - 1s 709us/sample - loss: 0.0114 - acc: 0.9974 - val_loss: 0.2803 - val_acc: 0.9425\n",
            "Epoch 95/100\n",
            "774/774 [==============================] - 1s 674us/sample - loss: 0.0123 - acc: 0.9961 - val_loss: 0.2738 - val_acc: 0.9310\n",
            "Epoch 96/100\n",
            "774/774 [==============================] - 1s 670us/sample - loss: 0.0058 - acc: 0.9987 - val_loss: 0.2249 - val_acc: 0.9310\n",
            "Epoch 97/100\n",
            "774/774 [==============================] - 1s 688us/sample - loss: 0.0120 - acc: 0.9948 - val_loss: 0.1696 - val_acc: 0.9310\n",
            "Epoch 98/100\n",
            "774/774 [==============================] - 1s 695us/sample - loss: 0.0353 - acc: 0.9884 - val_loss: 0.3391 - val_acc: 0.9080\n",
            "Epoch 99/100\n",
            "774/774 [==============================] - 1s 657us/sample - loss: 0.0297 - acc: 0.9922 - val_loss: 0.4573 - val_acc: 0.9195\n",
            "Epoch 100/100\n",
            "774/774 [==============================] - 1s 692us/sample - loss: 0.0218 - acc: 0.9897 - val_loss: 1.0293 - val_acc: 0.8621\n",
            "Saved model to disk\n",
            "dict_keys(['loss', 'acc', 'val_loss', 'val_acc'])\n"
          ],
          "name": "stdout"
        },
        {
          "output_type": "execute_result",
          "data": {
            "text/plain": [
              "<matplotlib.legend.Legend at 0x7f807e33e390>"
            ]
          },
          "metadata": {
            "tags": []
          },
          "execution_count": 33
        },
        {
          "output_type": "display_data",
          "data": {
            "image/png": "[encoded data removed]",
            "text/plain": [
              "<Figure size 432x288 with 1 Axes>"
            ]
          },
          "metadata": {
            "tags": []
          }
        }
      ]
    },
    {
      "cell_type": "code",
      "metadata": {
        "id": "I8RsitR39R8p",
        "colab_type": "code",
        "outputId": "7b65119a-8dfd-437a-c6e6-e720bf145762",
        "colab": {
          "base_uri": "https://localhost:8080/",
          "height": 34
        }
      },
      "source": [
        "print(X.shape[1:])"
      ],
      "execution_count": 0,
      "outputs": [
        {
          "output_type": "stream",
          "text": [
            "(50, 50, 3)\n"
          ],
          "name": "stdout"
        }
      ]
    },
    {
      "cell_type": "code",
      "metadata": {
        "id": "ypNMyiTM637g",
        "colab_type": "code",
        "outputId": "25b0736e-5b75-45aa-dd9d-09ec3fe342aa",
        "colab": {
          "base_uri": "https://localhost:8080/",
          "height": 898
        }
      },
      "source": [
        "print(model.summary())"
      ],
      "execution_count": 0,
      "outputs": [
        {
          "output_type": "stream",
          "text": [
            "Model: \"sequential_5\"\n",
            "_________________________________________________________________\n",
            "Layer (type)                 Output Shape              Param #   \n",
            "=================================================================\n",
            "conv2d_20 (Conv2D)           (None, 48, 48, 32)        896       \n",
            "_________________________________________________________________\n",
            "batch_normalization_30 (Batc (None, 48, 48, 32)        128       \n",
            "_________________________________________________________________\n",
            "conv2d_21 (Conv2D)           (None, 46, 46, 32)        9248      \n",
            "_________________________________________________________________\n",
            "batch_normalization_31 (Batc (None, 46, 46, 32)        128       \n",
            "_________________________________________________________________\n",
            "max_pooling2d_10 (MaxPooling (None, 23, 23, 32)        0         \n",
            "_________________________________________________________________\n",
            "dropout_25 (Dropout)         (None, 23, 23, 32)        0         \n",
            "_________________________________________________________________\n",
            "conv2d_22 (Conv2D)           (None, 21, 21, 64)        18496     \n",
            "_________________________________________________________________\n",
            "batch_normalization_32 (Batc (None, 21, 21, 64)        256       \n",
            "_________________________________________________________________\n",
            "dropout_26 (Dropout)         (None, 21, 21, 64)        0         \n",
            "_________________________________________________________________\n",
            "conv2d_23 (Conv2D)           (None, 19, 19, 128)       73856     \n",
            "_________________________________________________________________\n",
            "batch_normalization_33 (Batc (None, 19, 19, 128)       512       \n",
            "_________________________________________________________________\n",
            "max_pooling2d_11 (MaxPooling (None, 9, 9, 128)         0         \n",
            "_________________________________________________________________\n",
            "dropout_27 (Dropout)         (None, 9, 9, 128)         0         \n",
            "_________________________________________________________________\n",
            "flatten_5 (Flatten)          (None, 10368)             0         \n",
            "_________________________________________________________________\n",
            "dense_15 (Dense)             (None, 512)               5308928   \n",
            "_________________________________________________________________\n",
            "batch_normalization_34 (Batc (None, 512)               2048      \n",
            "_________________________________________________________________\n",
            "dropout_28 (Dropout)         (None, 512)               0         \n",
            "_________________________________________________________________\n",
            "dense_16 (Dense)             (None, 128)               65664     \n",
            "_________________________________________________________________\n",
            "batch_normalization_35 (Batc (None, 128)               512       \n",
            "_________________________________________________________________\n",
            "dropout_29 (Dropout)         (None, 128)               0         \n",
            "_________________________________________________________________\n",
            "dense_17 (Dense)             (None, 4)                 516       \n",
            "=================================================================\n",
            "Total params: 5,481,188\n",
            "Trainable params: 5,479,396\n",
            "Non-trainable params: 1,792\n",
            "_________________________________________________________________\n",
            "None\n"
          ],
          "name": "stdout"
        }
      ]
    },
    {
      "cell_type": "markdown",
      "metadata": {
        "id": "s90lS2V1g_zF",
        "colab_type": "text"
      },
      "source": [
        "#testing model"
      ]
    },
    {
      "cell_type": "code",
      "metadata": {
        "id": "pdrG3zDM2Iy-",
        "colab_type": "code",
        "outputId": "04d8f941-008e-4ce9-9c85-51cb589afb29",
        "colab": {
          "base_uri": "https://localhost:8080/",
          "height": 69
        }
      },
      "source": [
        "import tensorflow as tf \n",
        "from google.colab.patches import cv2_imshow\n",
        "import cv2\n",
        "import numpy as np\n",
        "\n",
        "model = tf.keras.models.load_model('CNN.model')\n",
        "\n",
        "model.compile(loss=\"sparse_categorical_crossentropy\",\n",
        "\t\t\t\toptimizer=\"adam\",\n",
        "\t\t\t\tmetrics=[\"accuracy\"])\n",
        "\n",
        "from keras.preprocessing import image\n",
        "import keras\n",
        "img = image.load_img('data/corno.jpg', target_size=(50, 50))\n",
        "#print(img)\n",
        "x = image.img_to_array(img)\n",
        "x = np.expand_dims(x, axis=0)\n",
        "\n",
        "images = np.vstack([x])\n",
        "classes = model.predict_classes(images)\n",
        "print (classes)\n",
        "y_proba = model.predict(images)\n",
        "#y_classes = keras.np_utils.probas_to_classes(y_proba)\n",
        "print(y_proba)\n",
        "#print(y_classes)\n",
        "for pred in classes:\n",
        "\tprint(\"You have {} disease\".format(CATEGORIES[pred]))"
      ],
      "execution_count": 0,
      "outputs": [
        {
          "output_type": "stream",
          "text": [
            "[1]\n",
            "[[0. 1. 0. 0.]]\n",
            "You have atypical disease\n"
          ],
          "name": "stdout"
        }
      ]
    },
    {
      "cell_type": "code",
      "metadata": {
        "id": "-pEHFPNHHuiv",
        "colab_type": "code",
        "colab": {}
      },
      "source": [
        ""
      ],
      "execution_count": 0,
      "outputs": []
    }
  ]
}